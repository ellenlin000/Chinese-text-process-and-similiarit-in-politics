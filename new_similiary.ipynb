{
 "cells": [
  {
   "cell_type": "code",
   "execution_count": 50,
   "metadata": {
    "collapsed": false
   },
   "outputs": [
    {
     "name": "stdout",
     "output_type": "stream",
     "text": [
      "try to link with DataBase:cate_test......\n",
      "sccessful link\n",
      "result1: ( ' 1 . 捍衛 原住 民族 基本 權益 消除 一切 形式 族群 歧視 承認 原住 民族 固有 權利 尊重 原住 民族 特殊 地位 建立 原住 民族 與 國家 形成 對 等 的 伙伴 關 係 2 . 完成 原住 民族 立法 自治 還原 歷史 真相 尊重 原住 民族 意願 集體 權益 及 自主 自決 精神 原住 民族 當家 做主 3 . 鞏 固原 住 民族 土地 及 自然 主 權 儘 速 完成 原住 民族 土地 及 海域 法歸 還原 住 民族 傳統 土地 其水 資源 應 充分 回歸 自主 發展 航海 文化 保障 海洋 民族 權益 4 . 建立 原住 民族 照護及 醫療 體系 制定 原住 民族 健康 法充 實原 鄉 醫療 資源 推動 老人 長 期照護 保障 原住 民族 整體 健康 及 生命安全 5 . 推動 原住 民族 部落 產業 制定 原住 民族 經濟 發展 法國家 在 部落 投資 提供 資金 協助 提高 經濟 誘因 促進 原住民 在 地 就業 及 創業 永續 經營 6 . 確立 原住 民族 教育 主體性 中央 設置 原住 民族 教育 專責 機構 建構 一貫性 原住 民族 教育 體制 機會 均等 資源 優先 課綱 微調 應 尊重 部落 歷史 7 . 尊重 原住民 殘障 同胞 基本 人權 維護 身心 自主 權 生存 權 教育 權及 工作 權 扶助 自力 使 其活 得 有 尊嚴 8 . 建構 都市 原住民 居住 正義機制 在 都 會區 劃編 原住民 特色 的 聚落 環境 永續 發展 脫離 無殼 鍋牛 之 困境 建立 優質 生活 環境 9 . 疼惜 天然 災害 重創 災難 之 災民 要求 政府 落實 安置 重建 工作 並在 災區 推動產業 重建 計畫 永續 發展 災區 經濟 與 生計 不再 對 家破人亡 的 災民 落井下石 10 . 維護 原住 民族 傳統 生物 多樣 性 知識 制定 原住 民族 傳統 生物 多樣 性 知識 保護法 尊重 保存 並促 進永續 利用 及 創新 原住 民族 傳統 生物 多樣 性 知識 ' ,   )\n",
      "--往下--\n"
     ]
    },
    {
     "ename": "AttributeError",
     "evalue": "'pyodbc.Row' object has no attribute 'decode'",
     "output_type": "error",
     "traceback": [
      "\u001b[0;31m---------------------------------------------------------------------------\u001b[0m",
      "\u001b[0;31mAttributeError\u001b[0m                            Traceback (most recent call last)",
      "\u001b[0;32m<ipython-input-50-c7475c29582f>\u001b[0m in \u001b[0;36m<module>\u001b[0;34m()\u001b[0m\n\u001b[1;32m     52\u001b[0m         \u001b[0mresult\u001b[0m\u001b[1;33m=\u001b[0m \u001b[0mjieba\u001b[0m\u001b[1;33m.\u001b[0m\u001b[0mcut\u001b[0m\u001b[1;33m(\u001b[0m\u001b[0mword1\u001b[0m\u001b[1;33m)\u001b[0m\u001b[1;33m\u001b[0m\u001b[0m\n\u001b[1;32m     53\u001b[0m         \u001b[1;31m#print('result:' , result)\u001b[0m\u001b[1;33m\u001b[0m\u001b[1;33m\u001b[0m\u001b[0m\n\u001b[0;32m---> 54\u001b[0;31m         \u001b[0mresult1\u001b[0m \u001b[1;33m=\u001b[0m \u001b[1;34m\" \"\u001b[0m\u001b[1;33m.\u001b[0m\u001b[0mjoin\u001b[0m\u001b[1;33m(\u001b[0m\u001b[0mresult\u001b[0m\u001b[1;33m)\u001b[0m\u001b[1;33m\u001b[0m\u001b[0m\n\u001b[0m\u001b[1;32m     55\u001b[0m         \u001b[0mprint\u001b[0m\u001b[1;33m(\u001b[0m\u001b[1;34m'result1:'\u001b[0m \u001b[1;33m,\u001b[0m \u001b[0mresult1\u001b[0m\u001b[1;33m)\u001b[0m\u001b[1;33m\u001b[0m\u001b[0m\n\u001b[1;32m     56\u001b[0m         \u001b[0mprint\u001b[0m\u001b[1;33m(\u001b[0m\u001b[1;34m'--往下--'\u001b[0m\u001b[1;33m)\u001b[0m\u001b[1;33m\u001b[0m\u001b[0m\n",
      "\u001b[0;32mC:\\Users\\Leaves\\Anaconda3\\lib\\site-packages\\jieba\\__init__.py\u001b[0m in \u001b[0;36mcut\u001b[0;34m(self, sentence, cut_all, HMM)\u001b[0m\n\u001b[1;32m    280\u001b[0m             \u001b[1;33m-\u001b[0m \u001b[0mHMM\u001b[0m\u001b[1;33m:\u001b[0m \u001b[0mWhether\u001b[0m \u001b[0mto\u001b[0m \u001b[0muse\u001b[0m \u001b[0mthe\u001b[0m \u001b[0mHidden\u001b[0m \u001b[0mMarkov\u001b[0m \u001b[0mModel\u001b[0m\u001b[1;33m.\u001b[0m\u001b[1;33m\u001b[0m\u001b[0m\n\u001b[1;32m    281\u001b[0m         '''\n\u001b[0;32m--> 282\u001b[0;31m         \u001b[0msentence\u001b[0m \u001b[1;33m=\u001b[0m \u001b[0mstrdecode\u001b[0m\u001b[1;33m(\u001b[0m\u001b[0msentence\u001b[0m\u001b[1;33m)\u001b[0m\u001b[1;33m\u001b[0m\u001b[0m\n\u001b[0m\u001b[1;32m    283\u001b[0m \u001b[1;33m\u001b[0m\u001b[0m\n\u001b[1;32m    284\u001b[0m         \u001b[1;32mif\u001b[0m \u001b[0mcut_all\u001b[0m\u001b[1;33m:\u001b[0m\u001b[1;33m\u001b[0m\u001b[0m\n",
      "\u001b[0;32mC:\\Users\\Leaves\\Anaconda3\\lib\\site-packages\\jieba\\_compat.py\u001b[0m in \u001b[0;36mstrdecode\u001b[0;34m(sentence)\u001b[0m\n\u001b[1;32m     35\u001b[0m     \u001b[1;32mif\u001b[0m \u001b[1;32mnot\u001b[0m \u001b[0misinstance\u001b[0m\u001b[1;33m(\u001b[0m\u001b[0msentence\u001b[0m\u001b[1;33m,\u001b[0m \u001b[0mtext_type\u001b[0m\u001b[1;33m)\u001b[0m\u001b[1;33m:\u001b[0m\u001b[1;33m\u001b[0m\u001b[0m\n\u001b[1;32m     36\u001b[0m         \u001b[1;32mtry\u001b[0m\u001b[1;33m:\u001b[0m\u001b[1;33m\u001b[0m\u001b[0m\n\u001b[0;32m---> 37\u001b[0;31m             \u001b[0msentence\u001b[0m \u001b[1;33m=\u001b[0m \u001b[0msentence\u001b[0m\u001b[1;33m.\u001b[0m\u001b[0mdecode\u001b[0m\u001b[1;33m(\u001b[0m\u001b[1;34m'utf-8'\u001b[0m\u001b[1;33m)\u001b[0m\u001b[1;33m\u001b[0m\u001b[0m\n\u001b[0m\u001b[1;32m     38\u001b[0m         \u001b[1;32mexcept\u001b[0m \u001b[0mUnicodeDecodeError\u001b[0m\u001b[1;33m:\u001b[0m\u001b[1;33m\u001b[0m\u001b[0m\n\u001b[1;32m     39\u001b[0m             \u001b[0msentence\u001b[0m \u001b[1;33m=\u001b[0m \u001b[0msentence\u001b[0m\u001b[1;33m.\u001b[0m\u001b[0mdecode\u001b[0m\u001b[1;33m(\u001b[0m\u001b[1;34m'gbk'\u001b[0m\u001b[1;33m,\u001b[0m \u001b[1;34m'ignore'\u001b[0m\u001b[1;33m)\u001b[0m\u001b[1;33m\u001b[0m\u001b[0m\n",
      "\u001b[0;31mAttributeError\u001b[0m: 'pyodbc.Row' object has no attribute 'decode'"
     ]
    }
   ],
   "source": [
    "import pyodbc\n",
    "import jieba\n",
    "\n",
    "from math import*\n",
    "import codecs\n",
    "from nltk import word_tokenize\n",
    "import os #讀取程式目前路徑用\n",
    "import sys #為了能夠吃進主程式外部輸進的參數\n",
    "import nltk #引入自然語言處理模組\n",
    "import io #檔案io\n",
    "from nltk.corpus import stopwords #去無用字\n",
    "import re #需要用正則表示式移除標點與數字\n",
    "from nltk.corpus import wordnet as wn #2013/10/26改用wordnet來做字根還原\n",
    "from nltk.tokenize import word_tokenize\n",
    "import json\n",
    "import numpy as np\n",
    "import numpy.linalg as LA\n",
    "import string\n",
    "import csv\n",
    "\n",
    "#連接資料庫\n",
    "print(\"try to link with DataBase:cate_test......\")\n",
    "cnxn = pyodbc.connect(\"DRIVER={SQL Server};SERVER=LEAVES-PC\\SA000;DATABASE=cate_test;UID=sa;PWD=00000000\")\n",
    "cursor = cnxn.cursor()\n",
    "print(\"sccessful link\")\n",
    "\n",
    "\n",
    "#印出前十筆資料(指定在dbo.mobile01_list資料表)\n",
    "\n",
    "cursor.execute(\"select [BulletinPlatform] from dbo.PFP_20161020001\")\n",
    "chineseFilter1 = [u'，', u'。', u'、', u'；', u'：', u'？', u'「', u'」',u'&nbsp',u'<BR>']\n",
    "\n",
    "results = cursor.fetchall()\n",
    "#print(results)\n",
    "v1 = []\n",
    "v2 = []\n",
    "\n",
    "count=0 \n",
    "  \n",
    "\n",
    "#文字前製處理\n",
    "for i in results:\n",
    "    count+=1\n",
    "    ##print ('%d: %s' % (count, i))\n",
    "    ######來ㄌ!去標點!來!\n",
    "    chineseFilter1 = [u'，', u'。', u'、', u'；', u'：', u'？', u'「', u'」',u'&nbsp',u'<BR>', u'&lt;', u'&gt;']\n",
    "    for chin in chineseFilter1:\n",
    "        i = str(i)\n",
    "        i = i.replace(chin,'')\n",
    "        results[count-1] = i\n",
    "    for word1 in results:\n",
    "        result= jieba.cut(word1) \n",
    "        #print('result:' , result)\n",
    "        result1 = \" \".join(result)\n",
    "        print('result1:' , result1)\n",
    "        print('--往下--')\n",
    "        #file1 = nltk.word_tokenize(result1)\n",
    "        #print(\"file1: \", file1)\n",
    "        #trainTokenFrequency = nltk.FreqDist(result1)   \n",
    "        #print(\"trainTokenFrequency1: \", trainTokenFrequency)\n",
    "\n",
    "\n",
    "\n",
    "\n"
   ]
  },
  {
   "cell_type": "code",
   "execution_count": null,
   "metadata": {
    "collapsed": true
   },
   "outputs": [],
   "source": []
  }
 ],
 "metadata": {
  "kernelspec": {
   "display_name": "Python [conda root]",
   "language": "python",
   "name": "conda-root-py"
  },
  "language_info": {
   "codemirror_mode": {
    "name": "ipython",
    "version": 3
   },
   "file_extension": ".py",
   "mimetype": "text/x-python",
   "name": "python",
   "nbconvert_exporter": "python",
   "pygments_lexer": "ipython3",
   "version": "3.5.2"
  }
 },
 "nbformat": 4,
 "nbformat_minor": 1
}
